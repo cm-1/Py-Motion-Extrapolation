{
 "cells": [
  {
   "cell_type": "markdown",
   "metadata": {},
   "source": [
    "Connected to bayes_opt_and_plots (Python 3.12.6)"
   ]
  },
  {
   "cell_type": "code",
   "execution_count": null,
   "metadata": {},
   "outputs": [],
   "source": [
    "import os\n",
    "print(os.getcwd())"
   ]
  },
  {
   "cell_type": "code",
   "execution_count": 2,
   "id": "6b935350-e179-4e09-908e-5c5f14d13f7e",
   "metadata": {},
   "outputs": [],
   "source": [
    "import numpy as np\n",
    "\n",
    "\n",
    "import posemath as pm\n",
    "\n",
    "from gtCommon import BCOT_Data_Calculator"
   ]
  },
  {
   "cell_type": "code",
   "execution_count": null,
   "metadata": {},
   "outputs": [],
   "source": [
    "c = BCOT_Data_Calculator(0,0,2)\n",
    "c.loadData()\n",
    "c.replaceDataWithHelix(False)\n",
    "\n",
    "ts = c.getTranslationsGTNP(False)\n",
    "rs = c.getRotationMatsGTNP(False)\n",
    "mats = np.zeros((len(ts),4,4))\n",
    "mats[:,:3,:3] =  rs\n",
    "mats[:,:3,3] =  ts\n",
    "mats[:,3,3] = 1.0\n",
    "\n",
    "for m in mats:\n",
    "    print(\"[\", end=\"\")\n",
    "    for r in m:\n",
    "        print(np.array2string(\n",
    "            r,precision=3,separator=\",\",suppress_small=True,\n",
    "        ), end=\",\")\n",
    "    print(\"]\", end=\",\")\n"
   ]
  },
  {
   "cell_type": "code",
   "execution_count": 4,
   "metadata": {},
   "outputs": [],
   "source": [
    "translations = c.getTranslationsGTNP(True)"
   ]
  },
  {
   "cell_type": "code",
   "execution_count": 5,
   "metadata": {},
   "outputs": [],
   "source": [
    "import matplotlib.pyplot as plt"
   ]
  },
  {
   "cell_type": "code",
   "execution_count": 6,
   "metadata": {},
   "outputs": [],
   "source": [
    "%matplotlib tk"
   ]
  },
  {
   "cell_type": "code",
   "execution_count": 7,
   "metadata": {},
   "outputs": [],
   "source": [
    "ax = plt.figure().add_subplot(projection='3d')\n",
    "\n",
    "ax.scatter3D(*translations.T)\n",
    "plt.show()\n",
    "\n"
   ]
  }
 ],
 "metadata": {
  "kernelspec": {
   "display_name": "bayes_opt_and_plots",
   "language": "python",
   "name": "python3"
  },
  "language_info": {
   "codemirror_mode": {
    "name": "ipython",
    "version": 3
   },
   "file_extension": ".py",
   "mimetype": "text/x-python",
   "name": "python",
   "nbconvert_exporter": "python",
   "pygments_lexer": "ipython3",
   "version": "3.12.8"
  }
 },
 "nbformat": 4,
 "nbformat_minor": 2
}
